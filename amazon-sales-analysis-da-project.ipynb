{
 "cells": [
  {
   "cell_type": "markdown",
   "id": "219bd6c2",
   "metadata": {
    "papermill": {
     "duration": 0.013059,
     "end_time": "2024-11-06T09:05:25.017364",
     "exception": false,
     "start_time": "2024-11-06T09:05:25.004305",
     "status": "completed"
    },
    "tags": []
   },
   "source": [
    "# **INTRODUCTION**"
   ]
  },
  {
   "cell_type": "markdown",
   "id": "15e1a575",
   "metadata": {
    "papermill": {
     "duration": 0.008344,
     "end_time": "2024-11-06T09:05:25.034589",
     "exception": false,
     "start_time": "2024-11-06T09:05:25.026245",
     "status": "completed"
    },
    "tags": []
   },
   "source": [
    "**This project analyzes Amazon product data to extract insights related to pricing, customer ratings, and estimated top-selling products. The goal is to provide valuable insights that can guide Amazon sellers and platform managers in pricing, product ratings, and top-seller identification.**"
   ]
  },
  {
   "cell_type": "markdown",
   "id": "60fe058c",
   "metadata": {
    "papermill": {
     "duration": 0.008639,
     "end_time": "2024-11-06T09:05:25.052712",
     "exception": false,
     "start_time": "2024-11-06T09:05:25.044073",
     "status": "completed"
    },
    "tags": []
   },
   "source": [
    "# **1. Data Loading and Preprocessing**"
   ]
  },
  {
   "cell_type": "markdown",
   "id": "af648557",
   "metadata": {
    "papermill": {
     "duration": 0.007969,
     "end_time": "2024-11-06T09:05:25.069068",
     "exception": false,
     "start_time": "2024-11-06T09:05:25.061099",
     "status": "completed"
    },
    "tags": []
   },
   "source": [
    "In this section, we load the Amazon product dataset and perform basic data preprocessing. This includes converting relevant columns to numeric data types, which allows us to perform statistical calculations for our analyses.\n"
   ]
  },
  {
   "cell_type": "code",
   "execution_count": 1,
   "id": "595ff67c",
   "metadata": {
    "execution": {
     "iopub.execute_input": "2024-11-06T09:05:25.089185Z",
     "iopub.status.busy": "2024-11-06T09:05:25.087752Z",
     "iopub.status.idle": "2024-11-06T09:05:25.103944Z",
     "shell.execute_reply": "2024-11-06T09:05:25.102684Z"
    },
    "papermill": {
     "duration": 0.029649,
     "end_time": "2024-11-06T09:05:25.107069",
     "exception": false,
     "start_time": "2024-11-06T09:05:25.077420",
     "status": "completed"
    },
    "tags": []
   },
   "outputs": [],
   "source": [
    "#Importing Packages\n",
    "\n",
    "import pandas as pd"
   ]
  },
  {
   "cell_type": "code",
   "execution_count": 2,
   "id": "a2a592b9",
   "metadata": {
    "execution": {
     "iopub.execute_input": "2024-11-06T09:05:25.126647Z",
     "iopub.status.busy": "2024-11-06T09:05:25.126048Z",
     "iopub.status.idle": "2024-11-06T09:05:25.367590Z",
     "shell.execute_reply": "2024-11-06T09:05:25.366225Z"
    },
    "papermill": {
     "duration": 0.256646,
     "end_time": "2024-11-06T09:05:25.372207",
     "exception": false,
     "start_time": "2024-11-06T09:05:25.115561",
     "status": "completed"
    },
    "tags": []
   },
   "outputs": [],
   "source": [
    "# Load the dataset\n",
    "\n",
    "file_path = '/kaggle/input/amazon-sales-dataset/amazon.csv'  # Adjust this to match the file path on Kaggle\n",
    "amazon_data = pd.read_csv(file_path)"
   ]
  },
  {
   "cell_type": "code",
   "execution_count": 3,
   "id": "dc0b58d0",
   "metadata": {
    "execution": {
     "iopub.execute_input": "2024-11-06T09:05:25.393949Z",
     "iopub.status.busy": "2024-11-06T09:05:25.393482Z",
     "iopub.status.idle": "2024-11-06T09:05:25.460657Z",
     "shell.execute_reply": "2024-11-06T09:05:25.459097Z"
    },
    "papermill": {
     "duration": 0.081887,
     "end_time": "2024-11-06T09:05:25.465030",
     "exception": false,
     "start_time": "2024-11-06T09:05:25.383143",
     "status": "completed"
    },
    "tags": []
   },
   "outputs": [
    {
     "name": "stdout",
     "output_type": "stream",
     "text": [
      "<class 'pandas.core.frame.DataFrame'>\n",
      "RangeIndex: 1465 entries, 0 to 1464\n",
      "Data columns (total 16 columns):\n",
      " #   Column               Non-Null Count  Dtype \n",
      "---  ------               --------------  ----- \n",
      " 0   product_id           1465 non-null   object\n",
      " 1   product_name         1465 non-null   object\n",
      " 2   category             1465 non-null   object\n",
      " 3   discounted_price     1465 non-null   object\n",
      " 4   actual_price         1465 non-null   object\n",
      " 5   discount_percentage  1465 non-null   object\n",
      " 6   rating               1465 non-null   object\n",
      " 7   rating_count         1463 non-null   object\n",
      " 8   about_product        1465 non-null   object\n",
      " 9   user_id              1465 non-null   object\n",
      " 10  user_name            1465 non-null   object\n",
      " 11  review_id            1465 non-null   object\n",
      " 12  review_title         1465 non-null   object\n",
      " 13  review_content       1465 non-null   object\n",
      " 14  img_link             1465 non-null   object\n",
      " 15  product_link         1465 non-null   object\n",
      "dtypes: object(16)\n",
      "memory usage: 183.2+ KB\n"
     ]
    },
    {
     "data": {
      "text/html": [
       "<div>\n",
       "<style scoped>\n",
       "    .dataframe tbody tr th:only-of-type {\n",
       "        vertical-align: middle;\n",
       "    }\n",
       "\n",
       "    .dataframe tbody tr th {\n",
       "        vertical-align: top;\n",
       "    }\n",
       "\n",
       "    .dataframe thead th {\n",
       "        text-align: right;\n",
       "    }\n",
       "</style>\n",
       "<table border=\"1\" class=\"dataframe\">\n",
       "  <thead>\n",
       "    <tr style=\"text-align: right;\">\n",
       "      <th></th>\n",
       "      <th>product_id</th>\n",
       "      <th>product_name</th>\n",
       "      <th>category</th>\n",
       "      <th>discounted_price</th>\n",
       "      <th>actual_price</th>\n",
       "      <th>discount_percentage</th>\n",
       "      <th>rating</th>\n",
       "      <th>rating_count</th>\n",
       "      <th>about_product</th>\n",
       "      <th>user_id</th>\n",
       "      <th>user_name</th>\n",
       "      <th>review_id</th>\n",
       "      <th>review_title</th>\n",
       "      <th>review_content</th>\n",
       "      <th>img_link</th>\n",
       "      <th>product_link</th>\n",
       "    </tr>\n",
       "  </thead>\n",
       "  <tbody>\n",
       "    <tr>\n",
       "      <th>0</th>\n",
       "      <td>B07JW9H4J1</td>\n",
       "      <td>Wayona Nylon Braided USB to Lightning Fast Cha...</td>\n",
       "      <td>Computers&amp;Accessories|Accessories&amp;Peripherals|...</td>\n",
       "      <td>₹399</td>\n",
       "      <td>₹1,099</td>\n",
       "      <td>64%</td>\n",
       "      <td>4.2</td>\n",
       "      <td>24,269</td>\n",
       "      <td>High Compatibility : Compatible With iPhone 12...</td>\n",
       "      <td>AG3D6O4STAQKAY2UVGEUV46KN35Q,AHMY5CWJMMK5BJRBB...</td>\n",
       "      <td>Manav,Adarsh gupta,Sundeep,S.Sayeed Ahmed,jasp...</td>\n",
       "      <td>R3HXWT0LRP0NMF,R2AJM3LFTLZHFO,R6AQJGUP6P86,R1K...</td>\n",
       "      <td>Satisfied,Charging is really fast,Value for mo...</td>\n",
       "      <td>Looks durable Charging is fine tooNo complains...</td>\n",
       "      <td>https://m.media-amazon.com/images/W/WEBP_40237...</td>\n",
       "      <td>https://www.amazon.in/Wayona-Braided-WN3LG1-Sy...</td>\n",
       "    </tr>\n",
       "    <tr>\n",
       "      <th>1</th>\n",
       "      <td>B098NS6PVG</td>\n",
       "      <td>Ambrane Unbreakable 60W / 3A Fast Charging 1.5...</td>\n",
       "      <td>Computers&amp;Accessories|Accessories&amp;Peripherals|...</td>\n",
       "      <td>₹199</td>\n",
       "      <td>₹349</td>\n",
       "      <td>43%</td>\n",
       "      <td>4.0</td>\n",
       "      <td>43,994</td>\n",
       "      <td>Compatible with all Type C enabled devices, be...</td>\n",
       "      <td>AECPFYFQVRUWC3KGNLJIOREFP5LQ,AGYYVPDD7YG7FYNBX...</td>\n",
       "      <td>ArdKn,Nirbhay kumar,Sagar Viswanathan,Asp,Plac...</td>\n",
       "      <td>RGIQEG07R9HS2,R1SMWZQ86XIN8U,R2J3Y1WL29GWDE,RY...</td>\n",
       "      <td>A Good Braided Cable for Your Type C Device,Go...</td>\n",
       "      <td>I ordered this cable to connect my phone to An...</td>\n",
       "      <td>https://m.media-amazon.com/images/W/WEBP_40237...</td>\n",
       "      <td>https://www.amazon.in/Ambrane-Unbreakable-Char...</td>\n",
       "    </tr>\n",
       "    <tr>\n",
       "      <th>2</th>\n",
       "      <td>B096MSW6CT</td>\n",
       "      <td>Sounce Fast Phone Charging Cable &amp; Data Sync U...</td>\n",
       "      <td>Computers&amp;Accessories|Accessories&amp;Peripherals|...</td>\n",
       "      <td>₹199</td>\n",
       "      <td>₹1,899</td>\n",
       "      <td>90%</td>\n",
       "      <td>3.9</td>\n",
       "      <td>7,928</td>\n",
       "      <td>【 Fast Charger&amp; Data Sync】-With built-in safet...</td>\n",
       "      <td>AGU3BBQ2V2DDAMOAKGFAWDDQ6QHA,AESFLDV2PT363T2AQ...</td>\n",
       "      <td>Kunal,Himanshu,viswanath,sai niharka,saqib mal...</td>\n",
       "      <td>R3J3EQQ9TZI5ZJ,R3E7WBGK7ID0KV,RWU79XKQ6I1QF,R2...</td>\n",
       "      <td>Good speed for earlier versions,Good Product,W...</td>\n",
       "      <td>Not quite durable and sturdy,https://m.media-a...</td>\n",
       "      <td>https://m.media-amazon.com/images/W/WEBP_40237...</td>\n",
       "      <td>https://www.amazon.in/Sounce-iPhone-Charging-C...</td>\n",
       "    </tr>\n",
       "    <tr>\n",
       "      <th>3</th>\n",
       "      <td>B08HDJ86NZ</td>\n",
       "      <td>boAt Deuce USB 300 2 in 1 Type-C &amp; Micro USB S...</td>\n",
       "      <td>Computers&amp;Accessories|Accessories&amp;Peripherals|...</td>\n",
       "      <td>₹329</td>\n",
       "      <td>₹699</td>\n",
       "      <td>53%</td>\n",
       "      <td>4.2</td>\n",
       "      <td>94,363</td>\n",
       "      <td>The boAt Deuce USB 300 2 in 1 cable is compati...</td>\n",
       "      <td>AEWAZDZZJLQUYVOVGBEUKSLXHQ5A,AG5HTSFRRE6NL3M5S...</td>\n",
       "      <td>Omkar dhale,JD,HEMALATHA,Ajwadh a.,amar singh ...</td>\n",
       "      <td>R3EEUZKKK9J36I,R3HJVYCLYOY554,REDECAZ7AMPQC,R1...</td>\n",
       "      <td>Good product,Good one,Nice,Really nice product...</td>\n",
       "      <td>Good product,long wire,Charges good,Nice,I bou...</td>\n",
       "      <td>https://m.media-amazon.com/images/I/41V5FtEWPk...</td>\n",
       "      <td>https://www.amazon.in/Deuce-300-Resistant-Tang...</td>\n",
       "    </tr>\n",
       "    <tr>\n",
       "      <th>4</th>\n",
       "      <td>B08CF3B7N1</td>\n",
       "      <td>Portronics Konnect L 1.2M Fast Charging 3A 8 P...</td>\n",
       "      <td>Computers&amp;Accessories|Accessories&amp;Peripherals|...</td>\n",
       "      <td>₹154</td>\n",
       "      <td>₹399</td>\n",
       "      <td>61%</td>\n",
       "      <td>4.2</td>\n",
       "      <td>16,905</td>\n",
       "      <td>[CHARGE &amp; SYNC FUNCTION]- This cable comes wit...</td>\n",
       "      <td>AE3Q6KSUK5P75D5HFYHCRAOLODSA,AFUGIFH5ZAFXRDSZH...</td>\n",
       "      <td>rahuls6099,Swasat Borah,Ajay Wadke,Pranali,RVK...</td>\n",
       "      <td>R1BP4L2HH9TFUP,R16PVJEXKV6QZS,R2UPDB81N66T4P,R...</td>\n",
       "      <td>As good as original,Decent,Good one for second...</td>\n",
       "      <td>Bought this instead of original apple, does th...</td>\n",
       "      <td>https://m.media-amazon.com/images/W/WEBP_40237...</td>\n",
       "      <td>https://www.amazon.in/Portronics-Konnect-POR-1...</td>\n",
       "    </tr>\n",
       "  </tbody>\n",
       "</table>\n",
       "</div>"
      ],
      "text/plain": [
       "   product_id                                       product_name  \\\n",
       "0  B07JW9H4J1  Wayona Nylon Braided USB to Lightning Fast Cha...   \n",
       "1  B098NS6PVG  Ambrane Unbreakable 60W / 3A Fast Charging 1.5...   \n",
       "2  B096MSW6CT  Sounce Fast Phone Charging Cable & Data Sync U...   \n",
       "3  B08HDJ86NZ  boAt Deuce USB 300 2 in 1 Type-C & Micro USB S...   \n",
       "4  B08CF3B7N1  Portronics Konnect L 1.2M Fast Charging 3A 8 P...   \n",
       "\n",
       "                                            category discounted_price  \\\n",
       "0  Computers&Accessories|Accessories&Peripherals|...             ₹399   \n",
       "1  Computers&Accessories|Accessories&Peripherals|...             ₹199   \n",
       "2  Computers&Accessories|Accessories&Peripherals|...             ₹199   \n",
       "3  Computers&Accessories|Accessories&Peripherals|...             ₹329   \n",
       "4  Computers&Accessories|Accessories&Peripherals|...             ₹154   \n",
       "\n",
       "  actual_price discount_percentage rating rating_count  \\\n",
       "0       ₹1,099                 64%    4.2       24,269   \n",
       "1         ₹349                 43%    4.0       43,994   \n",
       "2       ₹1,899                 90%    3.9        7,928   \n",
       "3         ₹699                 53%    4.2       94,363   \n",
       "4         ₹399                 61%    4.2       16,905   \n",
       "\n",
       "                                       about_product  \\\n",
       "0  High Compatibility : Compatible With iPhone 12...   \n",
       "1  Compatible with all Type C enabled devices, be...   \n",
       "2  【 Fast Charger& Data Sync】-With built-in safet...   \n",
       "3  The boAt Deuce USB 300 2 in 1 cable is compati...   \n",
       "4  [CHARGE & SYNC FUNCTION]- This cable comes wit...   \n",
       "\n",
       "                                             user_id  \\\n",
       "0  AG3D6O4STAQKAY2UVGEUV46KN35Q,AHMY5CWJMMK5BJRBB...   \n",
       "1  AECPFYFQVRUWC3KGNLJIOREFP5LQ,AGYYVPDD7YG7FYNBX...   \n",
       "2  AGU3BBQ2V2DDAMOAKGFAWDDQ6QHA,AESFLDV2PT363T2AQ...   \n",
       "3  AEWAZDZZJLQUYVOVGBEUKSLXHQ5A,AG5HTSFRRE6NL3M5S...   \n",
       "4  AE3Q6KSUK5P75D5HFYHCRAOLODSA,AFUGIFH5ZAFXRDSZH...   \n",
       "\n",
       "                                           user_name  \\\n",
       "0  Manav,Adarsh gupta,Sundeep,S.Sayeed Ahmed,jasp...   \n",
       "1  ArdKn,Nirbhay kumar,Sagar Viswanathan,Asp,Plac...   \n",
       "2  Kunal,Himanshu,viswanath,sai niharka,saqib mal...   \n",
       "3  Omkar dhale,JD,HEMALATHA,Ajwadh a.,amar singh ...   \n",
       "4  rahuls6099,Swasat Borah,Ajay Wadke,Pranali,RVK...   \n",
       "\n",
       "                                           review_id  \\\n",
       "0  R3HXWT0LRP0NMF,R2AJM3LFTLZHFO,R6AQJGUP6P86,R1K...   \n",
       "1  RGIQEG07R9HS2,R1SMWZQ86XIN8U,R2J3Y1WL29GWDE,RY...   \n",
       "2  R3J3EQQ9TZI5ZJ,R3E7WBGK7ID0KV,RWU79XKQ6I1QF,R2...   \n",
       "3  R3EEUZKKK9J36I,R3HJVYCLYOY554,REDECAZ7AMPQC,R1...   \n",
       "4  R1BP4L2HH9TFUP,R16PVJEXKV6QZS,R2UPDB81N66T4P,R...   \n",
       "\n",
       "                                        review_title  \\\n",
       "0  Satisfied,Charging is really fast,Value for mo...   \n",
       "1  A Good Braided Cable for Your Type C Device,Go...   \n",
       "2  Good speed for earlier versions,Good Product,W...   \n",
       "3  Good product,Good one,Nice,Really nice product...   \n",
       "4  As good as original,Decent,Good one for second...   \n",
       "\n",
       "                                      review_content  \\\n",
       "0  Looks durable Charging is fine tooNo complains...   \n",
       "1  I ordered this cable to connect my phone to An...   \n",
       "2  Not quite durable and sturdy,https://m.media-a...   \n",
       "3  Good product,long wire,Charges good,Nice,I bou...   \n",
       "4  Bought this instead of original apple, does th...   \n",
       "\n",
       "                                            img_link  \\\n",
       "0  https://m.media-amazon.com/images/W/WEBP_40237...   \n",
       "1  https://m.media-amazon.com/images/W/WEBP_40237...   \n",
       "2  https://m.media-amazon.com/images/W/WEBP_40237...   \n",
       "3  https://m.media-amazon.com/images/I/41V5FtEWPk...   \n",
       "4  https://m.media-amazon.com/images/W/WEBP_40237...   \n",
       "\n",
       "                                        product_link  \n",
       "0  https://www.amazon.in/Wayona-Braided-WN3LG1-Sy...  \n",
       "1  https://www.amazon.in/Ambrane-Unbreakable-Char...  \n",
       "2  https://www.amazon.in/Sounce-iPhone-Charging-C...  \n",
       "3  https://www.amazon.in/Deuce-300-Resistant-Tang...  \n",
       "4  https://www.amazon.in/Portronics-Konnect-POR-1...  "
      ]
     },
     "execution_count": 3,
     "metadata": {},
     "output_type": "execute_result"
    }
   ],
   "source": [
    "# Display basic information and preview the first few rows\n",
    "amazon_data.info()\n",
    "amazon_data.head()"
   ]
  },
  {
   "cell_type": "markdown",
   "id": "50989177",
   "metadata": {
    "papermill": {
     "duration": 0.008818,
     "end_time": "2024-11-06T09:05:25.483298",
     "exception": false,
     "start_time": "2024-11-06T09:05:25.474480",
     "status": "completed"
    },
    "tags": []
   },
   "source": [
    "# **DATA CLEANING & PREPARATION**"
   ]
  },
  {
   "cell_type": "markdown",
   "id": "9f7fa0b5",
   "metadata": {
    "papermill": {
     "duration": 0.00887,
     "end_time": "2024-11-06T09:05:25.501503",
     "exception": false,
     "start_time": "2024-11-06T09:05:25.492633",
     "status": "completed"
    },
    "tags": []
   },
   "source": [
    "Before analyzing the data, it's important to clean and prepare it. Here are the main data cleaning steps taken:\n",
    "1. **Changing Data Types**: Convert columns from object to float for easier analysis.\n",
    "2. **Filling in Missing Information**: Handle missing values in critical columns.\n",
    "3. **Checking for Duplicate Rows**: Remove duplicate rows to prevent skewed results.\n"
   ]
  },
  {
   "cell_type": "markdown",
   "id": "a9742d1f",
   "metadata": {
    "papermill": {
     "duration": 0.008773,
     "end_time": "2024-11-06T09:05:25.519393",
     "exception": false,
     "start_time": "2024-11-06T09:05:25.510620",
     "status": "completed"
    },
    "tags": []
   },
   "source": [
    "### Changing Data Types"
   ]
  },
  {
   "cell_type": "code",
   "execution_count": 4,
   "id": "c933d26b",
   "metadata": {
    "execution": {
     "iopub.execute_input": "2024-11-06T09:05:25.542407Z",
     "iopub.status.busy": "2024-11-06T09:05:25.541599Z",
     "iopub.status.idle": "2024-11-06T09:05:25.570439Z",
     "shell.execute_reply": "2024-11-06T09:05:25.569055Z"
    },
    "papermill": {
     "duration": 0.042665,
     "end_time": "2024-11-06T09:05:25.573520",
     "exception": false,
     "start_time": "2024-11-06T09:05:25.530855",
     "status": "completed"
    },
    "tags": []
   },
   "outputs": [],
   "source": [
    "# Convert relevant columns to numeric types, handling non-numeric symbols\n",
    "amazon_data['discounted_price'] = amazon_data['discounted_price'].replace('[₹,]', '', regex=True).astype(float)\n",
    "amazon_data['actual_price'] = amazon_data['actual_price'].replace('[₹,]', '', regex=True).astype(float)\n",
    "amazon_data['rating'] = pd.to_numeric(amazon_data['rating'], errors='coerce')\n",
    "amazon_data['rating_count'] = amazon_data['rating_count'].replace(',', '', regex=True).astype(float)\n"
   ]
  },
  {
   "cell_type": "markdown",
   "id": "994033b0",
   "metadata": {
    "papermill": {
     "duration": 0.00892,
     "end_time": "2024-11-06T09:05:25.591782",
     "exception": false,
     "start_time": "2024-11-06T09:05:25.582862",
     "status": "completed"
    },
    "tags": []
   },
   "source": [
    "### Filling in Missing Information"
   ]
  },
  {
   "cell_type": "code",
   "execution_count": 5,
   "id": "ca73a1d1",
   "metadata": {
    "execution": {
     "iopub.execute_input": "2024-11-06T09:05:25.612796Z",
     "iopub.status.busy": "2024-11-06T09:05:25.611867Z",
     "iopub.status.idle": "2024-11-06T09:05:25.621933Z",
     "shell.execute_reply": "2024-11-06T09:05:25.620778Z"
    },
    "papermill": {
     "duration": 0.023792,
     "end_time": "2024-11-06T09:05:25.624924",
     "exception": false,
     "start_time": "2024-11-06T09:05:25.601132",
     "status": "completed"
    },
    "tags": []
   },
   "outputs": [],
   "source": [
    "# Check for missing values and fill if necessary\n",
    "amazon_data.fillna({\n",
    "    'discounted_price': amazon_data['discounted_price'].mean(),\n",
    "    'actual_price': amazon_data['actual_price'].mean(),\n",
    "    'rating': amazon_data['rating'].mean(),\n",
    "    'rating_count': 0  # Assuming products with no reviews have a rating count of 0\n",
    "}, inplace=True)\n"
   ]
  },
  {
   "cell_type": "markdown",
   "id": "08419b69",
   "metadata": {
    "papermill": {
     "duration": 0.008712,
     "end_time": "2024-11-06T09:05:25.642882",
     "exception": false,
     "start_time": "2024-11-06T09:05:25.634170",
     "status": "completed"
    },
    "tags": []
   },
   "source": [
    "### Checking for Duplicate Rows"
   ]
  },
  {
   "cell_type": "code",
   "execution_count": 6,
   "id": "02ad3771",
   "metadata": {
    "execution": {
     "iopub.execute_input": "2024-11-06T09:05:25.664114Z",
     "iopub.status.busy": "2024-11-06T09:05:25.663016Z",
     "iopub.status.idle": "2024-11-06T09:05:25.698304Z",
     "shell.execute_reply": "2024-11-06T09:05:25.696335Z"
    },
    "papermill": {
     "duration": 0.049332,
     "end_time": "2024-11-06T09:05:25.701507",
     "exception": false,
     "start_time": "2024-11-06T09:05:25.652175",
     "status": "completed"
    },
    "tags": []
   },
   "outputs": [
    {
     "name": "stdout",
     "output_type": "stream",
     "text": [
      "Removed 0 duplicate rows.\n"
     ]
    }
   ],
   "source": [
    "# Check for and remove duplicates\n",
    "initial_row_count = len(amazon_data)\n",
    "amazon_data.drop_duplicates(inplace=True)\n",
    "print(f\"Removed {initial_row_count - len(amazon_data)} duplicate rows.\")\n"
   ]
  },
  {
   "cell_type": "markdown",
   "id": "59492dde",
   "metadata": {
    "papermill": {
     "duration": 0.008928,
     "end_time": "2024-11-06T09:05:25.719719",
     "exception": false,
     "start_time": "2024-11-06T09:05:25.710791",
     "status": "completed"
    },
    "tags": []
   },
   "source": [
    "# **2. PRICE ANALYSIS**"
   ]
  },
  {
   "cell_type": "markdown",
   "id": "89a0a511",
   "metadata": {
    "papermill": {
     "duration": 0.01622,
     "end_time": "2024-11-06T09:05:25.747232",
     "exception": false,
     "start_time": "2024-11-06T09:05:25.731012",
     "status": "completed"
    },
    "tags": []
   },
   "source": [
    "In this section, we analyze product prices by calculating:\n",
    "- **Average Discounted Price**: Average price after discount.\n",
    "- **Minimum and Maximum Discounted Prices**: Price range within each category.\n",
    "- **Average Actual Price**: Average original price before discounts.\n"
   ]
  },
  {
   "cell_type": "code",
   "execution_count": 7,
   "id": "7019150c",
   "metadata": {
    "execution": {
     "iopub.execute_input": "2024-11-06T09:05:25.768620Z",
     "iopub.status.busy": "2024-11-06T09:05:25.767579Z",
     "iopub.status.idle": "2024-11-06T09:05:25.812753Z",
     "shell.execute_reply": "2024-11-06T09:05:25.811414Z"
    },
    "papermill": {
     "duration": 0.058974,
     "end_time": "2024-11-06T09:05:25.815719",
     "exception": false,
     "start_time": "2024-11-06T09:05:25.756745",
     "status": "completed"
    },
    "tags": []
   },
   "outputs": [
    {
     "data": {
      "text/html": [
       "<div>\n",
       "<style scoped>\n",
       "    .dataframe tbody tr th:only-of-type {\n",
       "        vertical-align: middle;\n",
       "    }\n",
       "\n",
       "    .dataframe tbody tr th {\n",
       "        vertical-align: top;\n",
       "    }\n",
       "\n",
       "    .dataframe thead th {\n",
       "        text-align: right;\n",
       "    }\n",
       "</style>\n",
       "<table border=\"1\" class=\"dataframe\">\n",
       "  <thead>\n",
       "    <tr style=\"text-align: right;\">\n",
       "      <th></th>\n",
       "      <th>category</th>\n",
       "      <th>avg_discounted_price</th>\n",
       "      <th>min_discounted_price</th>\n",
       "      <th>max_discounted_price</th>\n",
       "      <th>avg_actual_price</th>\n",
       "      <th>min_actual_price</th>\n",
       "      <th>max_actual_price</th>\n",
       "    </tr>\n",
       "  </thead>\n",
       "  <tbody>\n",
       "    <tr>\n",
       "      <th>0</th>\n",
       "      <td>Car&amp;Motorbike|CarAccessories|InteriorAccessori...</td>\n",
       "      <td>2339.000000</td>\n",
       "      <td>2339.0</td>\n",
       "      <td>2339.0</td>\n",
       "      <td>4000.000000</td>\n",
       "      <td>4000.0</td>\n",
       "      <td>4000.0</td>\n",
       "    </tr>\n",
       "    <tr>\n",
       "      <th>1</th>\n",
       "      <td>Computers&amp;Accessories|Accessories&amp;Peripherals|...</td>\n",
       "      <td>221.500000</td>\n",
       "      <td>149.0</td>\n",
       "      <td>294.0</td>\n",
       "      <td>2699.000000</td>\n",
       "      <td>399.0</td>\n",
       "      <td>4999.0</td>\n",
       "    </tr>\n",
       "    <tr>\n",
       "      <th>2</th>\n",
       "      <td>Computers&amp;Accessories|Accessories&amp;Peripherals|...</td>\n",
       "      <td>649.000000</td>\n",
       "      <td>649.0</td>\n",
       "      <td>649.0</td>\n",
       "      <td>999.000000</td>\n",
       "      <td>999.0</td>\n",
       "      <td>999.0</td>\n",
       "    </tr>\n",
       "    <tr>\n",
       "      <th>3</th>\n",
       "      <td>Computers&amp;Accessories|Accessories&amp;Peripherals|...</td>\n",
       "      <td>574.000000</td>\n",
       "      <td>199.0</td>\n",
       "      <td>949.0</td>\n",
       "      <td>1249.500000</td>\n",
       "      <td>499.0</td>\n",
       "      <td>2000.0</td>\n",
       "    </tr>\n",
       "    <tr>\n",
       "      <th>4</th>\n",
       "      <td>Computers&amp;Accessories|Accessories&amp;Peripherals|...</td>\n",
       "      <td>749.000000</td>\n",
       "      <td>649.0</td>\n",
       "      <td>849.0</td>\n",
       "      <td>1399.500000</td>\n",
       "      <td>1300.0</td>\n",
       "      <td>1499.0</td>\n",
       "    </tr>\n",
       "    <tr>\n",
       "      <th>...</th>\n",
       "      <td>...</td>\n",
       "      <td>...</td>\n",
       "      <td>...</td>\n",
       "      <td>...</td>\n",
       "      <td>...</td>\n",
       "      <td>...</td>\n",
       "      <td>...</td>\n",
       "    </tr>\n",
       "    <tr>\n",
       "      <th>206</th>\n",
       "      <td>OfficeProducts|OfficePaperProducts|Paper|Stati...</td>\n",
       "      <td>150.000000</td>\n",
       "      <td>50.0</td>\n",
       "      <td>250.0</td>\n",
       "      <td>150.000000</td>\n",
       "      <td>50.0</td>\n",
       "      <td>250.0</td>\n",
       "    </tr>\n",
       "    <tr>\n",
       "      <th>207</th>\n",
       "      <td>OfficeProducts|OfficePaperProducts|Paper|Stati...</td>\n",
       "      <td>255.000000</td>\n",
       "      <td>90.0</td>\n",
       "      <td>420.0</td>\n",
       "      <td>260.000000</td>\n",
       "      <td>100.0</td>\n",
       "      <td>420.0</td>\n",
       "    </tr>\n",
       "    <tr>\n",
       "      <th>208</th>\n",
       "      <td>OfficeProducts|OfficePaperProducts|Paper|Stati...</td>\n",
       "      <td>329.000000</td>\n",
       "      <td>178.0</td>\n",
       "      <td>480.0</td>\n",
       "      <td>405.000000</td>\n",
       "      <td>210.0</td>\n",
       "      <td>600.0</td>\n",
       "    </tr>\n",
       "    <tr>\n",
       "      <th>209</th>\n",
       "      <td>OfficeProducts|OfficePaperProducts|Paper|Stati...</td>\n",
       "      <td>244.333333</td>\n",
       "      <td>120.0</td>\n",
       "      <td>341.0</td>\n",
       "      <td>296.666667</td>\n",
       "      <td>120.0</td>\n",
       "      <td>450.0</td>\n",
       "    </tr>\n",
       "    <tr>\n",
       "      <th>210</th>\n",
       "      <td>Toys&amp;Games|Arts&amp;Crafts|Drawing&amp;PaintingSupplie...</td>\n",
       "      <td>150.000000</td>\n",
       "      <td>150.0</td>\n",
       "      <td>150.0</td>\n",
       "      <td>150.000000</td>\n",
       "      <td>150.0</td>\n",
       "      <td>150.0</td>\n",
       "    </tr>\n",
       "  </tbody>\n",
       "</table>\n",
       "<p>211 rows × 7 columns</p>\n",
       "</div>"
      ],
      "text/plain": [
       "                                              category  avg_discounted_price  \\\n",
       "0    Car&Motorbike|CarAccessories|InteriorAccessori...           2339.000000   \n",
       "1    Computers&Accessories|Accessories&Peripherals|...            221.500000   \n",
       "2    Computers&Accessories|Accessories&Peripherals|...            649.000000   \n",
       "3    Computers&Accessories|Accessories&Peripherals|...            574.000000   \n",
       "4    Computers&Accessories|Accessories&Peripherals|...            749.000000   \n",
       "..                                                 ...                   ...   \n",
       "206  OfficeProducts|OfficePaperProducts|Paper|Stati...            150.000000   \n",
       "207  OfficeProducts|OfficePaperProducts|Paper|Stati...            255.000000   \n",
       "208  OfficeProducts|OfficePaperProducts|Paper|Stati...            329.000000   \n",
       "209  OfficeProducts|OfficePaperProducts|Paper|Stati...            244.333333   \n",
       "210  Toys&Games|Arts&Crafts|Drawing&PaintingSupplie...            150.000000   \n",
       "\n",
       "     min_discounted_price  max_discounted_price  avg_actual_price  \\\n",
       "0                  2339.0                2339.0       4000.000000   \n",
       "1                   149.0                 294.0       2699.000000   \n",
       "2                   649.0                 649.0        999.000000   \n",
       "3                   199.0                 949.0       1249.500000   \n",
       "4                   649.0                 849.0       1399.500000   \n",
       "..                    ...                   ...               ...   \n",
       "206                  50.0                 250.0        150.000000   \n",
       "207                  90.0                 420.0        260.000000   \n",
       "208                 178.0                 480.0        405.000000   \n",
       "209                 120.0                 341.0        296.666667   \n",
       "210                 150.0                 150.0        150.000000   \n",
       "\n",
       "     min_actual_price  max_actual_price  \n",
       "0              4000.0            4000.0  \n",
       "1               399.0            4999.0  \n",
       "2               999.0             999.0  \n",
       "3               499.0            2000.0  \n",
       "4              1300.0            1499.0  \n",
       "..                ...               ...  \n",
       "206              50.0             250.0  \n",
       "207             100.0             420.0  \n",
       "208             210.0             600.0  \n",
       "209             120.0             450.0  \n",
       "210             150.0             150.0  \n",
       "\n",
       "[211 rows x 7 columns]"
      ]
     },
     "execution_count": 7,
     "metadata": {},
     "output_type": "execute_result"
    }
   ],
   "source": [
    "# Calculate average, minimum, and maximum prices by product category\n",
    "price_stats = amazon_data.groupby('category').agg(\n",
    "    avg_discounted_price=('discounted_price', 'mean'),\n",
    "    min_discounted_price=('discounted_price', 'min'),\n",
    "    max_discounted_price=('discounted_price', 'max'),\n",
    "    avg_actual_price=('actual_price', 'mean'),\n",
    "    min_actual_price=('actual_price', 'min'),\n",
    "    max_actual_price=('actual_price', 'max')\n",
    ").reset_index()\n",
    "\n",
    "# Display the calculated price statistics\n",
    "price_stats\n"
   ]
  },
  {
   "cell_type": "markdown",
   "id": "bf989e45",
   "metadata": {
    "papermill": {
     "duration": 0.009353,
     "end_time": "2024-11-06T09:05:25.834898",
     "exception": false,
     "start_time": "2024-11-06T09:05:25.825545",
     "status": "completed"
    },
    "tags": []
   },
   "source": [
    "### Insights from Price Analysis:\n",
    "- **Average Discounted Price**: Categories with higher discounted prices may represent premium products.\n",
    "- **Price Range**: Minimum and maximum prices within each category help identify budget and high-end products.\n",
    "- **Discount Impact**: Comparing average discounted and actual prices reveals discount trends across categories.\n"
   ]
  },
  {
   "cell_type": "markdown",
   "id": "a91a6385",
   "metadata": {
    "papermill": {
     "duration": 0.009301,
     "end_time": "2024-11-06T09:05:25.853897",
     "exception": false,
     "start_time": "2024-11-06T09:05:25.844596",
     "status": "completed"
    },
    "tags": []
   },
   "source": [
    "# **3. RATING ANALYSIS**"
   ]
  },
  {
   "cell_type": "markdown",
   "id": "852e1e42",
   "metadata": {
    "papermill": {
     "duration": 0.009404,
     "end_time": "2024-11-06T09:05:25.873233",
     "exception": false,
     "start_time": "2024-11-06T09:05:25.863829",
     "status": "completed"
    },
    "tags": []
   },
   "source": [
    "We analyze ratings to understand customer satisfaction by calculating the **average rating for each category**.\n",
    "- Higher ratings may reflect customer satisfaction.\n",
    "- Lower ratings might indicate potential quality issues or unmet customer expectations.\n"
   ]
  },
  {
   "cell_type": "code",
   "execution_count": 8,
   "id": "0ca62cdf",
   "metadata": {
    "execution": {
     "iopub.execute_input": "2024-11-06T09:05:25.895998Z",
     "iopub.status.busy": "2024-11-06T09:05:25.895092Z",
     "iopub.status.idle": "2024-11-06T09:05:25.914789Z",
     "shell.execute_reply": "2024-11-06T09:05:25.913407Z"
    },
    "papermill": {
     "duration": 0.034745,
     "end_time": "2024-11-06T09:05:25.917905",
     "exception": false,
     "start_time": "2024-11-06T09:05:25.883160",
     "status": "completed"
    },
    "tags": []
   },
   "outputs": [
    {
     "data": {
      "text/html": [
       "<div>\n",
       "<style scoped>\n",
       "    .dataframe tbody tr th:only-of-type {\n",
       "        vertical-align: middle;\n",
       "    }\n",
       "\n",
       "    .dataframe tbody tr th {\n",
       "        vertical-align: top;\n",
       "    }\n",
       "\n",
       "    .dataframe thead th {\n",
       "        text-align: right;\n",
       "    }\n",
       "</style>\n",
       "<table border=\"1\" class=\"dataframe\">\n",
       "  <thead>\n",
       "    <tr style=\"text-align: right;\">\n",
       "      <th></th>\n",
       "      <th>category</th>\n",
       "      <th>average_rating</th>\n",
       "    </tr>\n",
       "  </thead>\n",
       "  <tbody>\n",
       "    <tr>\n",
       "      <th>0</th>\n",
       "      <td>Car&amp;Motorbike|CarAccessories|InteriorAccessori...</td>\n",
       "      <td>3.800000</td>\n",
       "    </tr>\n",
       "    <tr>\n",
       "      <th>1</th>\n",
       "      <td>Computers&amp;Accessories|Accessories&amp;Peripherals|...</td>\n",
       "      <td>4.150000</td>\n",
       "    </tr>\n",
       "    <tr>\n",
       "      <th>2</th>\n",
       "      <td>Computers&amp;Accessories|Accessories&amp;Peripherals|...</td>\n",
       "      <td>3.500000</td>\n",
       "    </tr>\n",
       "    <tr>\n",
       "      <th>3</th>\n",
       "      <td>Computers&amp;Accessories|Accessories&amp;Peripherals|...</td>\n",
       "      <td>3.600000</td>\n",
       "    </tr>\n",
       "    <tr>\n",
       "      <th>4</th>\n",
       "      <td>Computers&amp;Accessories|Accessories&amp;Peripherals|...</td>\n",
       "      <td>4.050000</td>\n",
       "    </tr>\n",
       "    <tr>\n",
       "      <th>...</th>\n",
       "      <td>...</td>\n",
       "      <td>...</td>\n",
       "    </tr>\n",
       "    <tr>\n",
       "      <th>206</th>\n",
       "      <td>OfficeProducts|OfficePaperProducts|Paper|Stati...</td>\n",
       "      <td>4.250000</td>\n",
       "    </tr>\n",
       "    <tr>\n",
       "      <th>207</th>\n",
       "      <td>OfficeProducts|OfficePaperProducts|Paper|Stati...</td>\n",
       "      <td>4.150000</td>\n",
       "    </tr>\n",
       "    <tr>\n",
       "      <th>208</th>\n",
       "      <td>OfficeProducts|OfficePaperProducts|Paper|Stati...</td>\n",
       "      <td>4.300000</td>\n",
       "    </tr>\n",
       "    <tr>\n",
       "      <th>209</th>\n",
       "      <td>OfficeProducts|OfficePaperProducts|Paper|Stati...</td>\n",
       "      <td>4.133333</td>\n",
       "    </tr>\n",
       "    <tr>\n",
       "      <th>210</th>\n",
       "      <td>Toys&amp;Games|Arts&amp;Crafts|Drawing&amp;PaintingSupplie...</td>\n",
       "      <td>4.300000</td>\n",
       "    </tr>\n",
       "  </tbody>\n",
       "</table>\n",
       "<p>211 rows × 2 columns</p>\n",
       "</div>"
      ],
      "text/plain": [
       "                                              category  average_rating\n",
       "0    Car&Motorbike|CarAccessories|InteriorAccessori...        3.800000\n",
       "1    Computers&Accessories|Accessories&Peripherals|...        4.150000\n",
       "2    Computers&Accessories|Accessories&Peripherals|...        3.500000\n",
       "3    Computers&Accessories|Accessories&Peripherals|...        3.600000\n",
       "4    Computers&Accessories|Accessories&Peripherals|...        4.050000\n",
       "..                                                 ...             ...\n",
       "206  OfficeProducts|OfficePaperProducts|Paper|Stati...        4.250000\n",
       "207  OfficeProducts|OfficePaperProducts|Paper|Stati...        4.150000\n",
       "208  OfficeProducts|OfficePaperProducts|Paper|Stati...        4.300000\n",
       "209  OfficeProducts|OfficePaperProducts|Paper|Stati...        4.133333\n",
       "210  Toys&Games|Arts&Crafts|Drawing&PaintingSupplie...        4.300000\n",
       "\n",
       "[211 rows x 2 columns]"
      ]
     },
     "execution_count": 8,
     "metadata": {},
     "output_type": "execute_result"
    }
   ],
   "source": [
    "# Calculate the average rating for each category\n",
    "category_ratings = amazon_data.groupby('category')['rating'].mean().reset_index(name='average_rating')\n",
    "\n",
    "# Display the average rating by category\n",
    "category_ratings\n"
   ]
  },
  {
   "cell_type": "markdown",
   "id": "a2ec2f4b",
   "metadata": {
    "papermill": {
     "duration": 0.00987,
     "end_time": "2024-11-06T09:05:25.938040",
     "exception": false,
     "start_time": "2024-11-06T09:05:25.928170",
     "status": "completed"
    },
    "tags": []
   },
   "source": [
    "### Insights from Rating Analysis:\n",
    "- **Customer Satisfaction**: Categories with higher ratings generally show more satisfied customers.\n",
    "- **Quality Indicators**: Categories with lower ratings might face quality or satisfaction issues.\n",
    "- **Improvement Opportunities**: Categories with average ratings below 4.0 could be reviewed for quality improvements.\n"
   ]
  },
  {
   "cell_type": "markdown",
   "id": "742ef9fb",
   "metadata": {
    "papermill": {
     "duration": 0.010447,
     "end_time": "2024-11-06T09:05:25.958551",
     "exception": false,
     "start_time": "2024-11-06T09:05:25.948104",
     "status": "completed"
    },
    "tags": []
   },
   "source": [
    "# **4. TOP PRODUCTS BY SALES**"
   ]
  },
  {
   "cell_type": "markdown",
   "id": "50f01523",
   "metadata": {
    "papermill": {
     "duration": 0.011674,
     "end_time": "2024-11-06T09:05:25.981769",
     "exception": false,
     "start_time": "2024-11-06T09:05:25.970095",
     "status": "completed"
    },
    "tags": []
   },
   "source": [
    "We estimate top-selling products using the **rating_count** column. Products with higher review counts likely correlate with higher sales volume.\n",
    "- We sort products by `rating_count` in descending order.\n",
    "- The top 10 products with the highest review counts are identified.\n"
   ]
  },
  {
   "cell_type": "code",
   "execution_count": 9,
   "id": "7a1db08d",
   "metadata": {
    "execution": {
     "iopub.execute_input": "2024-11-06T09:05:26.004861Z",
     "iopub.status.busy": "2024-11-06T09:05:26.003793Z",
     "iopub.status.idle": "2024-11-06T09:05:26.021657Z",
     "shell.execute_reply": "2024-11-06T09:05:26.020224Z"
    },
    "papermill": {
     "duration": 0.032786,
     "end_time": "2024-11-06T09:05:26.024840",
     "exception": false,
     "start_time": "2024-11-06T09:05:25.992054",
     "status": "completed"
    },
    "tags": []
   },
   "outputs": [
    {
     "data": {
      "text/html": [
       "<div>\n",
       "<style scoped>\n",
       "    .dataframe tbody tr th:only-of-type {\n",
       "        vertical-align: middle;\n",
       "    }\n",
       "\n",
       "    .dataframe tbody tr th {\n",
       "        vertical-align: top;\n",
       "    }\n",
       "\n",
       "    .dataframe thead th {\n",
       "        text-align: right;\n",
       "    }\n",
       "</style>\n",
       "<table border=\"1\" class=\"dataframe\">\n",
       "  <thead>\n",
       "    <tr style=\"text-align: right;\">\n",
       "      <th></th>\n",
       "      <th>product_name</th>\n",
       "      <th>rating_count</th>\n",
       "    </tr>\n",
       "  </thead>\n",
       "  <tbody>\n",
       "    <tr>\n",
       "      <th>12</th>\n",
       "      <td>AmazonBasics Flexible Premium HDMI Cable (Blac...</td>\n",
       "      <td>426973.0</td>\n",
       "    </tr>\n",
       "    <tr>\n",
       "      <th>65</th>\n",
       "      <td>Amazon Basics High-Speed HDMI Cable, 6 Feet (2...</td>\n",
       "      <td>426973.0</td>\n",
       "    </tr>\n",
       "    <tr>\n",
       "      <th>47</th>\n",
       "      <td>Amazon Basics High-Speed HDMI Cable, 6 Feet - ...</td>\n",
       "      <td>426973.0</td>\n",
       "    </tr>\n",
       "    <tr>\n",
       "      <th>684</th>\n",
       "      <td>AmazonBasics Flexible Premium HDMI Cable (Blac...</td>\n",
       "      <td>426972.0</td>\n",
       "    </tr>\n",
       "    <tr>\n",
       "      <th>400</th>\n",
       "      <td>boAt Bassheads 100 in Ear Wired Earphones with...</td>\n",
       "      <td>363713.0</td>\n",
       "    </tr>\n",
       "    <tr>\n",
       "      <th>352</th>\n",
       "      <td>boAt Bassheads 100 in Ear Wired Earphones with...</td>\n",
       "      <td>363713.0</td>\n",
       "    </tr>\n",
       "    <tr>\n",
       "      <th>584</th>\n",
       "      <td>boAt BassHeads 100 in-Ear Wired Headphones wit...</td>\n",
       "      <td>363711.0</td>\n",
       "    </tr>\n",
       "    <tr>\n",
       "      <th>370</th>\n",
       "      <td>Redmi 9 Activ (Carbon Black, 4GB RAM, 64GB Sto...</td>\n",
       "      <td>313836.0</td>\n",
       "    </tr>\n",
       "    <tr>\n",
       "      <th>371</th>\n",
       "      <td>Redmi 9A Sport (Coral Green, 2GB RAM, 32GB Sto...</td>\n",
       "      <td>313836.0</td>\n",
       "    </tr>\n",
       "    <tr>\n",
       "      <th>473</th>\n",
       "      <td>Redmi 9A Sport (Carbon Black, 2GB RAM, 32GB St...</td>\n",
       "      <td>313832.0</td>\n",
       "    </tr>\n",
       "  </tbody>\n",
       "</table>\n",
       "</div>"
      ],
      "text/plain": [
       "                                          product_name  rating_count\n",
       "12   AmazonBasics Flexible Premium HDMI Cable (Blac...      426973.0\n",
       "65   Amazon Basics High-Speed HDMI Cable, 6 Feet (2...      426973.0\n",
       "47   Amazon Basics High-Speed HDMI Cable, 6 Feet - ...      426973.0\n",
       "684  AmazonBasics Flexible Premium HDMI Cable (Blac...      426972.0\n",
       "400  boAt Bassheads 100 in Ear Wired Earphones with...      363713.0\n",
       "352  boAt Bassheads 100 in Ear Wired Earphones with...      363713.0\n",
       "584  boAt BassHeads 100 in-Ear Wired Headphones wit...      363711.0\n",
       "370  Redmi 9 Activ (Carbon Black, 4GB RAM, 64GB Sto...      313836.0\n",
       "371  Redmi 9A Sport (Coral Green, 2GB RAM, 32GB Sto...      313836.0\n",
       "473  Redmi 9A Sport (Carbon Black, 2GB RAM, 32GB St...      313832.0"
      ]
     },
     "execution_count": 9,
     "metadata": {},
     "output_type": "execute_result"
    }
   ],
   "source": [
    "# Identify the top-selling products based on review count\n",
    "top_selling_products = amazon_data[['product_name', 'rating_count']].sort_values(by='rating_count', ascending=False).head(10)\n",
    "\n",
    "# Display the top-selling products\n",
    "top_selling_products\n"
   ]
  },
  {
   "cell_type": "markdown",
   "id": "0070a63b",
   "metadata": {
    "papermill": {
     "duration": 0.010545,
     "end_time": "2024-11-06T09:05:26.045769",
     "exception": false,
     "start_time": "2024-11-06T09:05:26.035224",
     "status": "completed"
    },
    "tags": []
   },
   "source": [
    "### Insights from Top Products by Sales:\n",
    "- **Popular Products**: Products with the highest review counts are likely best-sellers.\n",
    "- **Customer Engagement**: High review counts indicate strong customer engagement, potentially correlating with higher sales.\n",
    "- **Top Sellers**: These items likely cater well to customer needs and preferences.\n"
   ]
  },
  {
   "cell_type": "markdown",
   "id": "ccf67a5f",
   "metadata": {
    "papermill": {
     "duration": 0.010052,
     "end_time": "2024-11-06T09:05:26.067664",
     "exception": false,
     "start_time": "2024-11-06T09:05:26.057612",
     "status": "completed"
    },
    "tags": []
   },
   "source": [
    "# **Conclusion**"
   ]
  },
  {
   "cell_type": "markdown",
   "id": "90ab8b96",
   "metadata": {
    "papermill": {
     "duration": 0.014821,
     "end_time": "2024-11-06T09:05:26.094860",
     "exception": false,
     "start_time": "2024-11-06T09:05:26.080039",
     "status": "completed"
    },
    "tags": []
   },
   "source": [
    "This analysis provided valuable insights into Amazon's product data:\n",
    "1. **Price Analysis**: Showed price range and discount trends, helping identify premium and budget-friendly categories.\n",
    "2. **Rating Analysis**: Unveiled customer satisfaction trends, showing which categories are meeting expectations.\n",
    "3. **Top Products by Sales**: High review counts helped identify popular products that likely have higher sales.\n",
    "\n",
    "These insights enable Amazon sellers and platform managers to refine product offerings, improve pricing strategies, and recognize top-performing products.\n"
   ]
  }
 ],
 "metadata": {
  "kaggle": {
   "accelerator": "none",
   "dataSources": [
    {
     "datasetId": 2818963,
     "sourceId": 4862520,
     "sourceType": "datasetVersion"
    }
   ],
   "dockerImageVersionId": 30407,
   "isGpuEnabled": false,
   "isInternetEnabled": true,
   "language": "python",
   "sourceType": "notebook"
  },
  "kernelspec": {
   "display_name": "Python 3",
   "language": "python",
   "name": "python3"
  },
  "language_info": {
   "codemirror_mode": {
    "name": "ipython",
    "version": 3
   },
   "file_extension": ".py",
   "mimetype": "text/x-python",
   "name": "python",
   "nbconvert_exporter": "python",
   "pygments_lexer": "ipython3",
   "version": "3.7.12"
  },
  "papermill": {
   "default_parameters": {},
   "duration": 16.245866,
   "end_time": "2024-11-06T09:05:26.834734",
   "environment_variables": {},
   "exception": null,
   "input_path": "__notebook__.ipynb",
   "output_path": "__notebook__.ipynb",
   "parameters": {},
   "start_time": "2024-11-06T09:05:10.588868",
   "version": "2.4.0"
  }
 },
 "nbformat": 4,
 "nbformat_minor": 5
}
